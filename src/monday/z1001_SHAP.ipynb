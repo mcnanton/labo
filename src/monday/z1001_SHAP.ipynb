{
 "cells": [
  {
   "cell_type": "code",
   "execution_count": 1,
   "metadata": {},
   "outputs": [],
   "source": [
    "import pandas as pd\n",
    "import numpy as np\n",
    "import random\n",
    "import lightgbm as lgb"
   ]
  },
  {
   "cell_type": "markdown",
   "metadata": {},
   "source": [
    "# SHAP Values\n",
    "\n",
    "Veremos brevemente un modelo de interpretabilidad para modelos complejos de machine learning como es un LGBM.\n",
    "\n",
    "El uso de **python** para esta exploración se debe a la madurez encontrada en las librerías en mi búsqueda.\n",
    "\n",
    "Empezamos con la carga de los módulos necesarios:"
   ]
  },
  {
   "cell_type": "code",
   "execution_count": 2,
   "metadata": {},
   "outputs": [],
   "source": [
    "random.seed(123)"
   ]
  },
  {
   "cell_type": "markdown",
   "metadata": {},
   "source": [
    "Cargamos con **pandas** lentamente el dataset. Sólo vamos a trabajar con el primer conjunto de datos que es el más pequeño. Con un poco más de paciencia podrá usar los conjuntos más pesados. "
   ]
  },
  {
   "cell_type": "code",
   "execution_count": 3,
   "metadata": {},
   "outputs": [
    {
     "name": "stderr",
     "output_type": "stream",
     "text": [
      "C:\\Users\\PC\\anaconda3\\lib\\site-packages\\IPython\\core\\interactiveshell.py:3071: DtypeWarning: Columns (154) have mixed types.Specify dtype option on import or set low_memory=False.\n",
      "  has_raised = await self.run_ast_nodes(code_ast.body, cell_name,\n"
     ]
    }
   ],
   "source": [
    "#df_train = pd.read_csv(\"/home/aleb/dmeyf2022/datasets/competencia1_2022.csv\")\n",
    "\n",
    "df_train = pd.read_csv(\"C:/Users/PC/Documents/DMEyF/datasets/competencia2_2022.csv\")\n",
    "\n",
    "Xtrain = df_train[df_train[\"foto_mes\"] == 202101]\n",
    "ytrain = Xtrain[\"clase_ternaria\"].map(lambda x: 0 if x == \"CONTINUA\" else 1)"
   ]
  },
  {
   "cell_type": "markdown",
   "metadata": {},
   "source": [
    "Separamos también todos los casos de **BAJAS+1** y **BAJAS+2**"
   ]
  },
  {
   "cell_type": "code",
   "execution_count": 4,
   "metadata": {},
   "outputs": [],
   "source": [
    "Xcontinuan = df_train.query(\"foto_mes == 202101 and clase_ternaria == 'CONTINUA'\")\n",
    "Xcontinuan = Xcontinuan.drop(\"clase_ternaria\", axis=1)"
   ]
  },
  {
   "cell_type": "code",
   "execution_count": 5,
   "metadata": {},
   "outputs": [],
   "source": [
    "Xbajas = df_train.query(\"foto_mes == 202101 and clase_ternaria != 'CONTINUA'\")"
   ]
  },
  {
   "cell_type": "code",
   "execution_count": 6,
   "metadata": {},
   "outputs": [
    {
     "data": {
      "text/plain": [
       "(1514, 155)"
      ]
     },
     "execution_count": 6,
     "metadata": {},
     "output_type": "execute_result"
    }
   ],
   "source": [
    "Xbajas.shape"
   ]
  },
  {
   "cell_type": "markdown",
   "metadata": {},
   "source": [
    "Y nos deshacemos del target y limpiamos un poco la memoria."
   ]
  },
  {
   "cell_type": "code",
   "execution_count": 7,
   "metadata": {},
   "outputs": [],
   "source": [
    "Xtrain = Xtrain.drop(\"clase_ternaria\", axis=1)\n",
    "Xbajas = Xbajas.drop(\"clase_ternaria\", axis=1)\n",
    "\n",
    "del(df_train)"
   ]
  },
  {
   "cell_type": "code",
   "execution_count": 8,
   "metadata": {},
   "outputs": [
    {
     "data": {
      "text/plain": [
       "(161342, 154)"
      ]
     },
     "execution_count": 8,
     "metadata": {},
     "output_type": "execute_result"
    }
   ],
   "source": [
    "Xtrain.shape"
   ]
  },
  {
   "cell_type": "markdown",
   "metadata": {},
   "source": [
    "Hacemos un modelo **LGBM**"
   ]
  },
  {
   "cell_type": "code",
   "execution_count": 9,
   "metadata": {},
   "outputs": [
    {
     "name": "stdout",
     "output_type": "stream",
     "text": [
      "[LightGBM] [Warning] Auto-choosing row-wise multi-threading, the overhead of testing was 0.021405 seconds.\n",
      "You can set `force_row_wise=true` to remove the overhead.\n",
      "And if memory is not enough, you can set `force_col_wise=true`.\n",
      "[LightGBM] [Warning] No further splits with positive gain, best gain: -inf\n",
      "[LightGBM] [Warning] No further splits with positive gain, best gain: -inf\n",
      "[LightGBM] [Warning] No further splits with positive gain, best gain: -inf\n",
      "[LightGBM] [Warning] No further splits with positive gain, best gain: -inf\n",
      "[LightGBM] [Warning] No further splits with positive gain, best gain: -inf\n",
      "[LightGBM] [Warning] No further splits with positive gain, best gain: -inf\n",
      "[LightGBM] [Warning] No further splits with positive gain, best gain: -inf\n"
     ]
    }
   ],
   "source": [
    "# create dataset for lightgbm\n",
    "lgb_train = lgb.Dataset(Xtrain, ytrain)\n",
    "\n",
    "# specify your configurations as a dict\n",
    "params = {\n",
    "    'objective': 'binary',\n",
    "    'learning_rate': 0.05,\n",
    "    'verbose': 2,\n",
    "    'max_bin': 15,\n",
    "    'min_data_in_leaf': 4000,\n",
    "    'verbose': 0,\n",
    "}\n",
    "\n",
    "gbm = lgb.train(params,\n",
    "                lgb_train,\n",
    "                num_boost_round=100)\n"
   ]
  },
  {
   "cell_type": "markdown",
   "metadata": {},
   "source": [
    "Y miramos su importancia de variables"
   ]
  },
  {
   "cell_type": "code",
   "execution_count": 10,
   "metadata": {},
   "outputs": [
    {
     "data": {
      "text/html": [
       "<div>\n",
       "<style scoped>\n",
       "    .dataframe tbody tr th:only-of-type {\n",
       "        vertical-align: middle;\n",
       "    }\n",
       "\n",
       "    .dataframe tbody tr th {\n",
       "        vertical-align: top;\n",
       "    }\n",
       "\n",
       "    .dataframe thead th {\n",
       "        text-align: right;\n",
       "    }\n",
       "</style>\n",
       "<table border=\"1\" class=\"dataframe\">\n",
       "  <thead>\n",
       "    <tr style=\"text-align: right;\">\n",
       "      <th></th>\n",
       "      <th>Features</th>\n",
       "      <th>Importances</th>\n",
       "    </tr>\n",
       "  </thead>\n",
       "  <tbody>\n",
       "    <tr>\n",
       "      <th>5</th>\n",
       "      <td>cliente_edad</td>\n",
       "      <td>141</td>\n",
       "    </tr>\n",
       "    <tr>\n",
       "      <th>107</th>\n",
       "      <td>ctrx_quarter</td>\n",
       "      <td>126</td>\n",
       "    </tr>\n",
       "    <tr>\n",
       "      <th>8</th>\n",
       "      <td>mrentabilidad_annual</td>\n",
       "      <td>119</td>\n",
       "    </tr>\n",
       "    <tr>\n",
       "      <th>10</th>\n",
       "      <td>mactivos_margen</td>\n",
       "      <td>103</td>\n",
       "    </tr>\n",
       "    <tr>\n",
       "      <th>22</th>\n",
       "      <td>mcuentas_saldo</td>\n",
       "      <td>91</td>\n",
       "    </tr>\n",
       "    <tr>\n",
       "      <th>...</th>\n",
       "      <td>...</td>\n",
       "      <td>...</td>\n",
       "    </tr>\n",
       "    <tr>\n",
       "      <th>76</th>\n",
       "      <td>cforex_buy</td>\n",
       "      <td>0</td>\n",
       "    </tr>\n",
       "    <tr>\n",
       "      <th>75</th>\n",
       "      <td>cforex</td>\n",
       "      <td>0</td>\n",
       "    </tr>\n",
       "    <tr>\n",
       "      <th>70</th>\n",
       "      <td>mtarjeta_master_descuentos</td>\n",
       "      <td>0</td>\n",
       "    </tr>\n",
       "    <tr>\n",
       "      <th>69</th>\n",
       "      <td>ctarjeta_master_descuentos</td>\n",
       "      <td>0</td>\n",
       "    </tr>\n",
       "    <tr>\n",
       "      <th>77</th>\n",
       "      <td>mforex_buy</td>\n",
       "      <td>0</td>\n",
       "    </tr>\n",
       "  </tbody>\n",
       "</table>\n",
       "<p>154 rows × 2 columns</p>\n",
       "</div>"
      ],
      "text/plain": [
       "                       Features  Importances\n",
       "5                  cliente_edad          141\n",
       "107                ctrx_quarter          126\n",
       "8          mrentabilidad_annual          119\n",
       "10              mactivos_margen          103\n",
       "22               mcuentas_saldo           91\n",
       "..                          ...          ...\n",
       "76                   cforex_buy            0\n",
       "75                       cforex            0\n",
       "70   mtarjeta_master_descuentos            0\n",
       "69   ctarjeta_master_descuentos            0\n",
       "77                   mforex_buy            0\n",
       "\n",
       "[154 rows x 2 columns]"
      ]
     },
     "execution_count": 10,
     "metadata": {},
     "output_type": "execute_result"
    }
   ],
   "source": [
    "lgbm_importancia = pd.DataFrame({'Features': gbm.feature_name(),\n",
    "                        'Importances': gbm.feature_importance()})\n",
    "lgbm_importancia.sort_values(by='Importances', inplace=True, ascending=False)\n",
    "lgbm_importancia\n"
   ]
  },
  {
   "cell_type": "markdown",
   "metadata": {},
   "source": [
    "Ahora avanzamos aplicando un modelo de interpretabilidad sobre el modelo anterior."
   ]
  },
  {
   "cell_type": "code",
   "execution_count": 11,
   "metadata": {},
   "outputs": [],
   "source": [
    "import shap"
   ]
  },
  {
   "cell_type": "code",
   "execution_count": 12,
   "metadata": {},
   "outputs": [
    {
     "name": "stderr",
     "output_type": "stream",
     "text": [
      "LightGBM binary classifier with TreeExplainer shap values output has changed to a list of ndarray\n"
     ]
    }
   ],
   "source": [
    "explainer = shap.TreeExplainer(gbm)\n",
    "shap_values = explainer.shap_values(Xbajas)"
   ]
  },
  {
   "cell_type": "code",
   "execution_count": 13,
   "metadata": {},
   "outputs": [
    {
     "data": {
      "text/plain": [
       "array([[-0.00490419,  0.        ,  0.        , ..., -0.01529934,\n",
       "         0.        , -0.05303794],\n",
       "       [-0.01396955,  0.        ,  0.        , ..., -0.00372101,\n",
       "         0.        , -0.06072516],\n",
       "       [-0.022926  ,  0.        ,  0.        , ..., -0.00712049,\n",
       "         0.        ,  0.01607875],\n",
       "       ...,\n",
       "       [ 0.01525908,  0.        ,  0.        , ..., -0.00069827,\n",
       "         0.        , -0.12853166],\n",
       "       [ 0.00585244,  0.        ,  0.        , ..., -0.00020201,\n",
       "         0.        , -0.06968133],\n",
       "       [ 0.01802769,  0.        ,  0.        , ...,  0.00929811,\n",
       "         0.        , -0.07368033]])"
      ]
     },
     "execution_count": 13,
     "metadata": {},
     "output_type": "execute_result"
    }
   ],
   "source": [
    "shap_values[0]"
   ]
  },
  {
   "cell_type": "code",
   "execution_count": 14,
   "metadata": {},
   "outputs": [
    {
     "data": {
      "text/plain": [
       "array([[ 0.00490419,  0.        ,  0.        , ...,  0.01529934,\n",
       "         0.        ,  0.05303794],\n",
       "       [ 0.01396955,  0.        ,  0.        , ...,  0.00372101,\n",
       "         0.        ,  0.06072516],\n",
       "       [ 0.022926  ,  0.        ,  0.        , ...,  0.00712049,\n",
       "         0.        , -0.01607875],\n",
       "       ...,\n",
       "       [-0.01525908,  0.        ,  0.        , ...,  0.00069827,\n",
       "         0.        ,  0.12853166],\n",
       "       [-0.00585244,  0.        ,  0.        , ...,  0.00020201,\n",
       "         0.        ,  0.06968133],\n",
       "       [-0.01802769,  0.        ,  0.        , ..., -0.00929811,\n",
       "         0.        ,  0.07368033]])"
      ]
     },
     "execution_count": 14,
     "metadata": {},
     "output_type": "execute_result"
    }
   ],
   "source": [
    "shap_values[1]"
   ]
  },
  {
   "cell_type": "markdown",
   "metadata": {},
   "source": [
    "Consolidamos los valores de **SHAP** para cada variable y para cada **BAJA+\\***"
   ]
  },
  {
   "cell_type": "code",
   "execution_count": 15,
   "metadata": {},
   "outputs": [
    {
     "data": {
      "text/html": [
       "<div>\n",
       "<style scoped>\n",
       "    .dataframe tbody tr th:only-of-type {\n",
       "        vertical-align: middle;\n",
       "    }\n",
       "\n",
       "    .dataframe tbody tr th {\n",
       "        vertical-align: top;\n",
       "    }\n",
       "\n",
       "    .dataframe thead th {\n",
       "        text-align: right;\n",
       "    }\n",
       "</style>\n",
       "<table border=\"1\" class=\"dataframe\">\n",
       "  <thead>\n",
       "    <tr style=\"text-align: right;\">\n",
       "      <th></th>\n",
       "      <th>numero_de_cliente</th>\n",
       "      <th>foto_mes</th>\n",
       "      <th>active_quarter</th>\n",
       "      <th>cliente_vip</th>\n",
       "      <th>internet</th>\n",
       "      <th>cliente_edad</th>\n",
       "      <th>cliente_antiguedad</th>\n",
       "      <th>mrentabilidad</th>\n",
       "      <th>mrentabilidad_annual</th>\n",
       "      <th>mcomisiones</th>\n",
       "      <th>...</th>\n",
       "      <th>Visa_madelantodolares</th>\n",
       "      <th>Visa_fultimo_cierre</th>\n",
       "      <th>Visa_mpagado</th>\n",
       "      <th>Visa_mpagospesos</th>\n",
       "      <th>Visa_mpagosdolares</th>\n",
       "      <th>Visa_fechaalta</th>\n",
       "      <th>Visa_mconsumototal</th>\n",
       "      <th>Visa_cconsumos</th>\n",
       "      <th>Visa_cadelantosefectivo</th>\n",
       "      <th>Visa_mpagominimo</th>\n",
       "    </tr>\n",
       "  </thead>\n",
       "  <tbody>\n",
       "    <tr>\n",
       "      <th>0</th>\n",
       "      <td>-0.004904</td>\n",
       "      <td>0.0</td>\n",
       "      <td>0.0</td>\n",
       "      <td>0.0</td>\n",
       "      <td>-0.002334</td>\n",
       "      <td>0.043758</td>\n",
       "      <td>0.013983</td>\n",
       "      <td>-0.041278</td>\n",
       "      <td>0.196130</td>\n",
       "      <td>0.000189</td>\n",
       "      <td>...</td>\n",
       "      <td>0.0</td>\n",
       "      <td>-0.000616</td>\n",
       "      <td>0.011454</td>\n",
       "      <td>-0.014267</td>\n",
       "      <td>-0.002817</td>\n",
       "      <td>-0.021265</td>\n",
       "      <td>0.0</td>\n",
       "      <td>-0.015299</td>\n",
       "      <td>0.0</td>\n",
       "      <td>-0.053038</td>\n",
       "    </tr>\n",
       "    <tr>\n",
       "      <th>1</th>\n",
       "      <td>-0.013970</td>\n",
       "      <td>0.0</td>\n",
       "      <td>0.0</td>\n",
       "      <td>0.0</td>\n",
       "      <td>-0.004382</td>\n",
       "      <td>0.048569</td>\n",
       "      <td>0.011794</td>\n",
       "      <td>0.006623</td>\n",
       "      <td>-0.096754</td>\n",
       "      <td>-0.011399</td>\n",
       "      <td>...</td>\n",
       "      <td>0.0</td>\n",
       "      <td>0.001421</td>\n",
       "      <td>-0.057956</td>\n",
       "      <td>-0.006672</td>\n",
       "      <td>0.011768</td>\n",
       "      <td>0.004617</td>\n",
       "      <td>0.0</td>\n",
       "      <td>-0.003721</td>\n",
       "      <td>0.0</td>\n",
       "      <td>-0.060725</td>\n",
       "    </tr>\n",
       "    <tr>\n",
       "      <th>2</th>\n",
       "      <td>-0.022926</td>\n",
       "      <td>0.0</td>\n",
       "      <td>0.0</td>\n",
       "      <td>0.0</td>\n",
       "      <td>-0.001292</td>\n",
       "      <td>-0.410950</td>\n",
       "      <td>0.011234</td>\n",
       "      <td>0.023368</td>\n",
       "      <td>0.058636</td>\n",
       "      <td>0.006585</td>\n",
       "      <td>...</td>\n",
       "      <td>0.0</td>\n",
       "      <td>0.001724</td>\n",
       "      <td>-0.030290</td>\n",
       "      <td>0.008067</td>\n",
       "      <td>-0.001562</td>\n",
       "      <td>-0.001833</td>\n",
       "      <td>0.0</td>\n",
       "      <td>-0.007120</td>\n",
       "      <td>0.0</td>\n",
       "      <td>0.016079</td>\n",
       "    </tr>\n",
       "    <tr>\n",
       "      <th>3</th>\n",
       "      <td>-0.018709</td>\n",
       "      <td>0.0</td>\n",
       "      <td>0.0</td>\n",
       "      <td>0.0</td>\n",
       "      <td>-0.002978</td>\n",
       "      <td>-0.213675</td>\n",
       "      <td>0.009803</td>\n",
       "      <td>-0.010034</td>\n",
       "      <td>-0.031874</td>\n",
       "      <td>-0.016405</td>\n",
       "      <td>...</td>\n",
       "      <td>0.0</td>\n",
       "      <td>0.001045</td>\n",
       "      <td>-0.000576</td>\n",
       "      <td>-0.014958</td>\n",
       "      <td>-0.003360</td>\n",
       "      <td>-0.063228</td>\n",
       "      <td>0.0</td>\n",
       "      <td>-0.000538</td>\n",
       "      <td>0.0</td>\n",
       "      <td>-0.111314</td>\n",
       "    </tr>\n",
       "    <tr>\n",
       "      <th>4</th>\n",
       "      <td>-0.012726</td>\n",
       "      <td>0.0</td>\n",
       "      <td>0.0</td>\n",
       "      <td>0.0</td>\n",
       "      <td>-0.002094</td>\n",
       "      <td>-0.203420</td>\n",
       "      <td>0.014232</td>\n",
       "      <td>-0.044485</td>\n",
       "      <td>0.168928</td>\n",
       "      <td>-0.012609</td>\n",
       "      <td>...</td>\n",
       "      <td>0.0</td>\n",
       "      <td>-0.002317</td>\n",
       "      <td>0.011874</td>\n",
       "      <td>-0.029288</td>\n",
       "      <td>-0.002845</td>\n",
       "      <td>-0.056215</td>\n",
       "      <td>0.0</td>\n",
       "      <td>-0.005447</td>\n",
       "      <td>0.0</td>\n",
       "      <td>-0.099260</td>\n",
       "    </tr>\n",
       "    <tr>\n",
       "      <th>...</th>\n",
       "      <td>...</td>\n",
       "      <td>...</td>\n",
       "      <td>...</td>\n",
       "      <td>...</td>\n",
       "      <td>...</td>\n",
       "      <td>...</td>\n",
       "      <td>...</td>\n",
       "      <td>...</td>\n",
       "      <td>...</td>\n",
       "      <td>...</td>\n",
       "      <td>...</td>\n",
       "      <td>...</td>\n",
       "      <td>...</td>\n",
       "      <td>...</td>\n",
       "      <td>...</td>\n",
       "      <td>...</td>\n",
       "      <td>...</td>\n",
       "      <td>...</td>\n",
       "      <td>...</td>\n",
       "      <td>...</td>\n",
       "      <td>...</td>\n",
       "    </tr>\n",
       "    <tr>\n",
       "      <th>1509</th>\n",
       "      <td>0.022436</td>\n",
       "      <td>0.0</td>\n",
       "      <td>0.0</td>\n",
       "      <td>0.0</td>\n",
       "      <td>-0.001274</td>\n",
       "      <td>0.045961</td>\n",
       "      <td>-0.071549</td>\n",
       "      <td>0.013633</td>\n",
       "      <td>-0.094009</td>\n",
       "      <td>-0.014529</td>\n",
       "      <td>...</td>\n",
       "      <td>0.0</td>\n",
       "      <td>0.001330</td>\n",
       "      <td>0.001324</td>\n",
       "      <td>-0.026429</td>\n",
       "      <td>-0.002340</td>\n",
       "      <td>0.062294</td>\n",
       "      <td>0.0</td>\n",
       "      <td>0.005572</td>\n",
       "      <td>0.0</td>\n",
       "      <td>0.079506</td>\n",
       "    </tr>\n",
       "    <tr>\n",
       "      <th>1510</th>\n",
       "      <td>0.014711</td>\n",
       "      <td>0.0</td>\n",
       "      <td>0.0</td>\n",
       "      <td>0.0</td>\n",
       "      <td>-0.002212</td>\n",
       "      <td>0.031978</td>\n",
       "      <td>-0.073241</td>\n",
       "      <td>0.003024</td>\n",
       "      <td>-0.105791</td>\n",
       "      <td>0.000905</td>\n",
       "      <td>...</td>\n",
       "      <td>0.0</td>\n",
       "      <td>0.001267</td>\n",
       "      <td>0.000154</td>\n",
       "      <td>-0.013291</td>\n",
       "      <td>0.011133</td>\n",
       "      <td>0.055093</td>\n",
       "      <td>0.0</td>\n",
       "      <td>0.003651</td>\n",
       "      <td>0.0</td>\n",
       "      <td>-0.071855</td>\n",
       "    </tr>\n",
       "    <tr>\n",
       "      <th>1511</th>\n",
       "      <td>0.015259</td>\n",
       "      <td>0.0</td>\n",
       "      <td>0.0</td>\n",
       "      <td>0.0</td>\n",
       "      <td>-0.002597</td>\n",
       "      <td>0.053010</td>\n",
       "      <td>-0.078954</td>\n",
       "      <td>0.022112</td>\n",
       "      <td>-0.120325</td>\n",
       "      <td>-0.005999</td>\n",
       "      <td>...</td>\n",
       "      <td>0.0</td>\n",
       "      <td>0.001442</td>\n",
       "      <td>0.000127</td>\n",
       "      <td>-0.011322</td>\n",
       "      <td>0.013452</td>\n",
       "      <td>0.080696</td>\n",
       "      <td>0.0</td>\n",
       "      <td>-0.000698</td>\n",
       "      <td>0.0</td>\n",
       "      <td>-0.128532</td>\n",
       "    </tr>\n",
       "    <tr>\n",
       "      <th>1512</th>\n",
       "      <td>0.005852</td>\n",
       "      <td>0.0</td>\n",
       "      <td>0.0</td>\n",
       "      <td>0.0</td>\n",
       "      <td>-0.003329</td>\n",
       "      <td>-0.179921</td>\n",
       "      <td>-0.070015</td>\n",
       "      <td>-0.004753</td>\n",
       "      <td>-0.104875</td>\n",
       "      <td>-0.015815</td>\n",
       "      <td>...</td>\n",
       "      <td>0.0</td>\n",
       "      <td>0.001135</td>\n",
       "      <td>-0.000063</td>\n",
       "      <td>-0.009317</td>\n",
       "      <td>0.012196</td>\n",
       "      <td>0.086014</td>\n",
       "      <td>0.0</td>\n",
       "      <td>-0.000202</td>\n",
       "      <td>0.0</td>\n",
       "      <td>-0.069681</td>\n",
       "    </tr>\n",
       "    <tr>\n",
       "      <th>1513</th>\n",
       "      <td>0.018028</td>\n",
       "      <td>0.0</td>\n",
       "      <td>0.0</td>\n",
       "      <td>0.0</td>\n",
       "      <td>-0.002379</td>\n",
       "      <td>0.015552</td>\n",
       "      <td>-0.139793</td>\n",
       "      <td>0.023018</td>\n",
       "      <td>-0.058858</td>\n",
       "      <td>0.003393</td>\n",
       "      <td>...</td>\n",
       "      <td>0.0</td>\n",
       "      <td>0.001300</td>\n",
       "      <td>-0.000924</td>\n",
       "      <td>-0.004851</td>\n",
       "      <td>0.009382</td>\n",
       "      <td>0.034476</td>\n",
       "      <td>0.0</td>\n",
       "      <td>0.009298</td>\n",
       "      <td>0.0</td>\n",
       "      <td>-0.073680</td>\n",
       "    </tr>\n",
       "  </tbody>\n",
       "</table>\n",
       "<p>1514 rows × 154 columns</p>\n",
       "</div>"
      ],
      "text/plain": [
       "      numero_de_cliente  foto_mes  active_quarter  cliente_vip  internet  \\\n",
       "0             -0.004904       0.0             0.0          0.0 -0.002334   \n",
       "1             -0.013970       0.0             0.0          0.0 -0.004382   \n",
       "2             -0.022926       0.0             0.0          0.0 -0.001292   \n",
       "3             -0.018709       0.0             0.0          0.0 -0.002978   \n",
       "4             -0.012726       0.0             0.0          0.0 -0.002094   \n",
       "...                 ...       ...             ...          ...       ...   \n",
       "1509           0.022436       0.0             0.0          0.0 -0.001274   \n",
       "1510           0.014711       0.0             0.0          0.0 -0.002212   \n",
       "1511           0.015259       0.0             0.0          0.0 -0.002597   \n",
       "1512           0.005852       0.0             0.0          0.0 -0.003329   \n",
       "1513           0.018028       0.0             0.0          0.0 -0.002379   \n",
       "\n",
       "      cliente_edad  cliente_antiguedad  mrentabilidad  mrentabilidad_annual  \\\n",
       "0         0.043758            0.013983      -0.041278              0.196130   \n",
       "1         0.048569            0.011794       0.006623             -0.096754   \n",
       "2        -0.410950            0.011234       0.023368              0.058636   \n",
       "3        -0.213675            0.009803      -0.010034             -0.031874   \n",
       "4        -0.203420            0.014232      -0.044485              0.168928   \n",
       "...            ...                 ...            ...                   ...   \n",
       "1509      0.045961           -0.071549       0.013633             -0.094009   \n",
       "1510      0.031978           -0.073241       0.003024             -0.105791   \n",
       "1511      0.053010           -0.078954       0.022112             -0.120325   \n",
       "1512     -0.179921           -0.070015      -0.004753             -0.104875   \n",
       "1513      0.015552           -0.139793       0.023018             -0.058858   \n",
       "\n",
       "      mcomisiones  ...  Visa_madelantodolares  Visa_fultimo_cierre  \\\n",
       "0        0.000189  ...                    0.0            -0.000616   \n",
       "1       -0.011399  ...                    0.0             0.001421   \n",
       "2        0.006585  ...                    0.0             0.001724   \n",
       "3       -0.016405  ...                    0.0             0.001045   \n",
       "4       -0.012609  ...                    0.0            -0.002317   \n",
       "...           ...  ...                    ...                  ...   \n",
       "1509    -0.014529  ...                    0.0             0.001330   \n",
       "1510     0.000905  ...                    0.0             0.001267   \n",
       "1511    -0.005999  ...                    0.0             0.001442   \n",
       "1512    -0.015815  ...                    0.0             0.001135   \n",
       "1513     0.003393  ...                    0.0             0.001300   \n",
       "\n",
       "      Visa_mpagado  Visa_mpagospesos  Visa_mpagosdolares  Visa_fechaalta  \\\n",
       "0         0.011454         -0.014267           -0.002817       -0.021265   \n",
       "1        -0.057956         -0.006672            0.011768        0.004617   \n",
       "2        -0.030290          0.008067           -0.001562       -0.001833   \n",
       "3        -0.000576         -0.014958           -0.003360       -0.063228   \n",
       "4         0.011874         -0.029288           -0.002845       -0.056215   \n",
       "...            ...               ...                 ...             ...   \n",
       "1509      0.001324         -0.026429           -0.002340        0.062294   \n",
       "1510      0.000154         -0.013291            0.011133        0.055093   \n",
       "1511      0.000127         -0.011322            0.013452        0.080696   \n",
       "1512     -0.000063         -0.009317            0.012196        0.086014   \n",
       "1513     -0.000924         -0.004851            0.009382        0.034476   \n",
       "\n",
       "      Visa_mconsumototal  Visa_cconsumos  Visa_cadelantosefectivo  \\\n",
       "0                    0.0       -0.015299                      0.0   \n",
       "1                    0.0       -0.003721                      0.0   \n",
       "2                    0.0       -0.007120                      0.0   \n",
       "3                    0.0       -0.000538                      0.0   \n",
       "4                    0.0       -0.005447                      0.0   \n",
       "...                  ...             ...                      ...   \n",
       "1509                 0.0        0.005572                      0.0   \n",
       "1510                 0.0        0.003651                      0.0   \n",
       "1511                 0.0       -0.000698                      0.0   \n",
       "1512                 0.0       -0.000202                      0.0   \n",
       "1513                 0.0        0.009298                      0.0   \n",
       "\n",
       "      Visa_mpagominimo  \n",
       "0            -0.053038  \n",
       "1            -0.060725  \n",
       "2             0.016079  \n",
       "3            -0.111314  \n",
       "4            -0.099260  \n",
       "...                ...  \n",
       "1509          0.079506  \n",
       "1510         -0.071855  \n",
       "1511         -0.128532  \n",
       "1512         -0.069681  \n",
       "1513         -0.073680  \n",
       "\n",
       "[1514 rows x 154 columns]"
      ]
     },
     "execution_count": 15,
     "metadata": {},
     "output_type": "execute_result"
    }
   ],
   "source": [
    "shap_bajas = pd.DataFrame(shap_values[0], columns = Xbajas.columns)\n",
    "shap_bajas"
   ]
  },
  {
   "cell_type": "markdown",
   "metadata": {},
   "source": [
    "Y consolidamos sus importancias"
   ]
  },
  {
   "cell_type": "code",
   "execution_count": 16,
   "metadata": {},
   "outputs": [
    {
     "data": {
      "text/plain": [
       "ctrx_quarter             0.966983\n",
       "cpayroll_trx             0.611897\n",
       "mtarjeta_visa_consumo    0.195651\n",
       "mcuentas_saldo           0.170158\n",
       "mpasivos_margen          0.141330\n",
       "                           ...   \n",
       "cpayroll2_trx            0.000000\n",
       "ccajas_otras             0.000000\n",
       "cpagodeservicios         0.000000\n",
       "mpagodeservicios         0.000000\n",
       "cforex_buy               0.000000\n",
       "Length: 154, dtype: float64"
      ]
     },
     "execution_count": 16,
     "metadata": {},
     "output_type": "execute_result"
    }
   ],
   "source": [
    "shap_importancias = shap_bajas.mean().abs().sort_values(ascending=False)\n",
    "shap_importancias"
   ]
  },
  {
   "cell_type": "markdown",
   "metadata": {},
   "source": [
    "La librería nos da útiles herramientas para vizualizar la info anterior. El largo de la barra nos dice que tanta influencia la variable tiene en la predicción. Se ve como cada variable esta dividida equitativamente en dos clases, lo cual tiene sentido dado que la contribución a cada clase es la misma (pero negativa o positiva)"
   ]
  },
  {
   "cell_type": "code",
   "execution_count": 17,
   "metadata": {},
   "outputs": [
    {
     "data": {
      "image/png": "[encoded data removed]",
      "text/plain": [
       "<Figure size 576x684 with 1 Axes>"
      ]
     },
     "metadata": {
      "needs_background": "light"
     },
     "output_type": "display_data"
    }
   ],
   "source": [
    "shap.summary_plot(shap_values, Xbajas)\n"
   ]
  },
  {
   "cell_type": "markdown",
   "metadata": {},
   "source": [
    "Y ahora debemos empezar a jugar para entender como estan asociadas las variables a los **shap values**"
   ]
  },
  {
   "cell_type": "code",
   "execution_count": 18,
   "metadata": {},
   "outputs": [
    {
     "data": {
      "image/png": "[encoded data removed]",
      "text/plain": [
       "<Figure size 540x360 with 2 Axes>"
      ]
     },
     "metadata": {
      "needs_background": "light"
     },
     "output_type": "display_data"
    }
   ],
   "source": [
    "shap.dependence_plot(\"cliente_edad\", shap_values[0], Xbajas)"
   ]
  },
  {
   "cell_type": "markdown",
   "metadata": {},
   "source": [
    "¿Se podrá hacer una clusterización sobre los valores de shap? \n",
    "\n",
    "Como la cantidad de variables es muy alto, es conveniente hacer un embedding con **UMAP**. Como la estrutura de los **shap values** se pueden hacer sin mucho preprocesamiento."
   ]
  },
  {
   "cell_type": "code",
   "execution_count": 19,
   "metadata": {},
   "outputs": [],
   "source": [
    "from umap import UMAP\n",
    "import matplotlib.pyplot as plt\n"
   ]
  },
  {
   "cell_type": "code",
   "execution_count": 20,
   "metadata": {},
   "outputs": [],
   "source": [
    "#Esto no funciona porque Xbajas contiene NaN\n",
    "\n",
    "#embedding_2d = UMAP(\n",
    "#  n_components=2, n_neighbors=40\n",
    "#).fit_transform(Xbajas)\n",
    "#plt.scatter(embedding_2d[:,0], embedding_2d[:,1])"
   ]
  },
  {
   "cell_type": "code",
   "execution_count": 21,
   "metadata": {},
   "outputs": [],
   "source": [
    "embedding_2d = UMAP(\n",
    "  n_components=2, n_neighbors=40\n",
    ").fit_transform(shap_values[0])\n"
   ]
  },
  {
   "cell_type": "code",
   "execution_count": 22,
   "metadata": {},
   "outputs": [
    {
     "data": {
      "text/plain": [
       "array([[ 4.0485926,  6.13024  ],\n",
       "       [13.188841 ,  4.630367 ],\n",
       "       [-0.9985995,  3.819076 ],\n",
       "       ...,\n",
       "       [ 6.8596196,  8.111596 ],\n",
       "       [ 7.5982194, 12.438964 ],\n",
       "       [-1.4168824,  2.884129 ]], dtype=float32)"
      ]
     },
     "execution_count": 22,
     "metadata": {},
     "output_type": "execute_result"
    }
   ],
   "source": [
    "embedding_2d"
   ]
  },
  {
   "cell_type": "code",
   "execution_count": 23,
   "metadata": {},
   "outputs": [
    {
     "data": {
      "text/plain": [
       "<matplotlib.collections.PathCollection at 0x20e633a5520>"
      ]
     },
     "execution_count": 23,
     "metadata": {},
     "output_type": "execute_result"
    },
    {
     "data": {
      "image/png": "[encoded data removed]",
      "text/plain": [
       "<Figure size 432x288 with 1 Axes>"
      ]
     },
     "metadata": {
      "needs_background": "light"
     },
     "output_type": "display_data"
    }
   ],
   "source": [
    "plt.scatter(embedding_2d[:,0], embedding_2d[:,1])"
   ]
  },
  {
   "cell_type": "markdown",
   "metadata": {},
   "source": [
    "Su momento de brillar: Qué se puede hacer desde este punto para tratar de interpretar los distintos segmentos para la presentación de Miranda."
   ]
  },
  {
   "cell_type": "markdown",
   "metadata": {},
   "source": [
    "Explainers para Los clientes que continuan"
   ]
  },
  {
   "cell_type": "code",
   "execution_count": 24,
   "metadata": {},
   "outputs": [
    {
     "name": "stderr",
     "output_type": "stream",
     "text": [
      "LightGBM binary classifier with TreeExplainer shap values output has changed to a list of ndarray\n"
     ]
    }
   ],
   "source": [
    "explainer = shap.TreeExplainer(gbm)\n",
    "shap_values_continuan = explainer.shap_values(Xcontinuan)"
   ]
  },
  {
   "cell_type": "code",
   "execution_count": 25,
   "metadata": {},
   "outputs": [
    {
     "data": {
      "text/html": [
       "<div>\n",
       "<style scoped>\n",
       "    .dataframe tbody tr th:only-of-type {\n",
       "        vertical-align: middle;\n",
       "    }\n",
       "\n",
       "    .dataframe tbody tr th {\n",
       "        vertical-align: top;\n",
       "    }\n",
       "\n",
       "    .dataframe thead th {\n",
       "        text-align: right;\n",
       "    }\n",
       "</style>\n",
       "<table border=\"1\" class=\"dataframe\">\n",
       "  <thead>\n",
       "    <tr style=\"text-align: right;\">\n",
       "      <th></th>\n",
       "      <th>numero_de_cliente</th>\n",
       "      <th>foto_mes</th>\n",
       "      <th>active_quarter</th>\n",
       "      <th>cliente_vip</th>\n",
       "      <th>internet</th>\n",
       "      <th>cliente_edad</th>\n",
       "      <th>cliente_antiguedad</th>\n",
       "      <th>mrentabilidad</th>\n",
       "      <th>mrentabilidad_annual</th>\n",
       "      <th>mcomisiones</th>\n",
       "      <th>...</th>\n",
       "      <th>Visa_madelantodolares</th>\n",
       "      <th>Visa_fultimo_cierre</th>\n",
       "      <th>Visa_mpagado</th>\n",
       "      <th>Visa_mpagospesos</th>\n",
       "      <th>Visa_mpagosdolares</th>\n",
       "      <th>Visa_fechaalta</th>\n",
       "      <th>Visa_mconsumototal</th>\n",
       "      <th>Visa_cconsumos</th>\n",
       "      <th>Visa_cadelantosefectivo</th>\n",
       "      <th>Visa_mpagominimo</th>\n",
       "    </tr>\n",
       "  </thead>\n",
       "  <tbody>\n",
       "    <tr>\n",
       "      <th>0</th>\n",
       "      <td>-0.059399</td>\n",
       "      <td>0.0</td>\n",
       "      <td>0.0</td>\n",
       "      <td>0.0</td>\n",
       "      <td>-0.000296</td>\n",
       "      <td>-0.226096</td>\n",
       "      <td>0.036975</td>\n",
       "      <td>0.011353</td>\n",
       "      <td>0.106937</td>\n",
       "      <td>0.008824</td>\n",
       "      <td>...</td>\n",
       "      <td>0.0</td>\n",
       "      <td>0.006159</td>\n",
       "      <td>-0.020858</td>\n",
       "      <td>-0.002582</td>\n",
       "      <td>-0.001113</td>\n",
       "      <td>-0.013512</td>\n",
       "      <td>0.0</td>\n",
       "      <td>-0.011341</td>\n",
       "      <td>0.0</td>\n",
       "      <td>0.008347</td>\n",
       "    </tr>\n",
       "    <tr>\n",
       "      <th>1</th>\n",
       "      <td>-0.030114</td>\n",
       "      <td>0.0</td>\n",
       "      <td>0.0</td>\n",
       "      <td>0.0</td>\n",
       "      <td>-0.004172</td>\n",
       "      <td>0.049834</td>\n",
       "      <td>0.020299</td>\n",
       "      <td>0.007580</td>\n",
       "      <td>0.025602</td>\n",
       "      <td>-0.018599</td>\n",
       "      <td>...</td>\n",
       "      <td>0.0</td>\n",
       "      <td>0.000615</td>\n",
       "      <td>-0.003269</td>\n",
       "      <td>-0.015208</td>\n",
       "      <td>0.003362</td>\n",
       "      <td>-0.020631</td>\n",
       "      <td>0.0</td>\n",
       "      <td>0.008871</td>\n",
       "      <td>0.0</td>\n",
       "      <td>-0.037425</td>\n",
       "    </tr>\n",
       "    <tr>\n",
       "      <th>2</th>\n",
       "      <td>-0.015525</td>\n",
       "      <td>0.0</td>\n",
       "      <td>0.0</td>\n",
       "      <td>0.0</td>\n",
       "      <td>-0.000431</td>\n",
       "      <td>-0.131010</td>\n",
       "      <td>-0.022083</td>\n",
       "      <td>0.026972</td>\n",
       "      <td>-0.228822</td>\n",
       "      <td>0.045084</td>\n",
       "      <td>...</td>\n",
       "      <td>0.0</td>\n",
       "      <td>0.001382</td>\n",
       "      <td>0.011327</td>\n",
       "      <td>0.014814</td>\n",
       "      <td>-0.002103</td>\n",
       "      <td>0.003128</td>\n",
       "      <td>0.0</td>\n",
       "      <td>-0.011976</td>\n",
       "      <td>0.0</td>\n",
       "      <td>0.111797</td>\n",
       "    </tr>\n",
       "    <tr>\n",
       "      <th>3</th>\n",
       "      <td>-0.016679</td>\n",
       "      <td>0.0</td>\n",
       "      <td>0.0</td>\n",
       "      <td>0.0</td>\n",
       "      <td>-0.000467</td>\n",
       "      <td>0.110202</td>\n",
       "      <td>0.033312</td>\n",
       "      <td>0.008397</td>\n",
       "      <td>0.074011</td>\n",
       "      <td>0.000968</td>\n",
       "      <td>...</td>\n",
       "      <td>0.0</td>\n",
       "      <td>0.000055</td>\n",
       "      <td>-0.002720</td>\n",
       "      <td>-0.039359</td>\n",
       "      <td>0.019646</td>\n",
       "      <td>0.016658</td>\n",
       "      <td>0.0</td>\n",
       "      <td>0.001402</td>\n",
       "      <td>0.0</td>\n",
       "      <td>0.008726</td>\n",
       "    </tr>\n",
       "    <tr>\n",
       "      <th>4</th>\n",
       "      <td>-0.024563</td>\n",
       "      <td>0.0</td>\n",
       "      <td>0.0</td>\n",
       "      <td>0.0</td>\n",
       "      <td>-0.001399</td>\n",
       "      <td>0.076367</td>\n",
       "      <td>0.020729</td>\n",
       "      <td>-0.038523</td>\n",
       "      <td>0.264719</td>\n",
       "      <td>-0.011762</td>\n",
       "      <td>...</td>\n",
       "      <td>0.0</td>\n",
       "      <td>0.007090</td>\n",
       "      <td>-0.000239</td>\n",
       "      <td>-0.049873</td>\n",
       "      <td>-0.001791</td>\n",
       "      <td>-0.023731</td>\n",
       "      <td>0.0</td>\n",
       "      <td>-0.014604</td>\n",
       "      <td>0.0</td>\n",
       "      <td>0.138070</td>\n",
       "    </tr>\n",
       "    <tr>\n",
       "      <th>...</th>\n",
       "      <td>...</td>\n",
       "      <td>...</td>\n",
       "      <td>...</td>\n",
       "      <td>...</td>\n",
       "      <td>...</td>\n",
       "      <td>...</td>\n",
       "      <td>...</td>\n",
       "      <td>...</td>\n",
       "      <td>...</td>\n",
       "      <td>...</td>\n",
       "      <td>...</td>\n",
       "      <td>...</td>\n",
       "      <td>...</td>\n",
       "      <td>...</td>\n",
       "      <td>...</td>\n",
       "      <td>...</td>\n",
       "      <td>...</td>\n",
       "      <td>...</td>\n",
       "      <td>...</td>\n",
       "      <td>...</td>\n",
       "      <td>...</td>\n",
       "    </tr>\n",
       "    <tr>\n",
       "      <th>159823</th>\n",
       "      <td>0.014883</td>\n",
       "      <td>0.0</td>\n",
       "      <td>0.0</td>\n",
       "      <td>0.0</td>\n",
       "      <td>-0.002832</td>\n",
       "      <td>0.021506</td>\n",
       "      <td>-0.072522</td>\n",
       "      <td>0.016694</td>\n",
       "      <td>-0.115339</td>\n",
       "      <td>-0.001116</td>\n",
       "      <td>...</td>\n",
       "      <td>0.0</td>\n",
       "      <td>0.001442</td>\n",
       "      <td>0.000127</td>\n",
       "      <td>-0.007158</td>\n",
       "      <td>0.014346</td>\n",
       "      <td>0.072067</td>\n",
       "      <td>0.0</td>\n",
       "      <td>0.002196</td>\n",
       "      <td>0.0</td>\n",
       "      <td>-0.110212</td>\n",
       "    </tr>\n",
       "    <tr>\n",
       "      <th>159824</th>\n",
       "      <td>0.020811</td>\n",
       "      <td>0.0</td>\n",
       "      <td>0.0</td>\n",
       "      <td>0.0</td>\n",
       "      <td>-0.002118</td>\n",
       "      <td>0.007973</td>\n",
       "      <td>-0.076953</td>\n",
       "      <td>0.020665</td>\n",
       "      <td>-0.092561</td>\n",
       "      <td>0.000034</td>\n",
       "      <td>...</td>\n",
       "      <td>0.0</td>\n",
       "      <td>0.001603</td>\n",
       "      <td>0.000463</td>\n",
       "      <td>-0.008493</td>\n",
       "      <td>0.012611</td>\n",
       "      <td>0.074352</td>\n",
       "      <td>0.0</td>\n",
       "      <td>0.001722</td>\n",
       "      <td>0.0</td>\n",
       "      <td>-0.107181</td>\n",
       "    </tr>\n",
       "    <tr>\n",
       "      <th>159825</th>\n",
       "      <td>0.010423</td>\n",
       "      <td>0.0</td>\n",
       "      <td>0.0</td>\n",
       "      <td>0.0</td>\n",
       "      <td>-0.002472</td>\n",
       "      <td>0.022727</td>\n",
       "      <td>-0.129579</td>\n",
       "      <td>0.020816</td>\n",
       "      <td>-0.052835</td>\n",
       "      <td>-0.002553</td>\n",
       "      <td>...</td>\n",
       "      <td>0.0</td>\n",
       "      <td>0.001300</td>\n",
       "      <td>-0.001313</td>\n",
       "      <td>-0.001045</td>\n",
       "      <td>0.007308</td>\n",
       "      <td>0.029410</td>\n",
       "      <td>0.0</td>\n",
       "      <td>0.008675</td>\n",
       "      <td>0.0</td>\n",
       "      <td>-0.065754</td>\n",
       "    </tr>\n",
       "    <tr>\n",
       "      <th>159826</th>\n",
       "      <td>0.023692</td>\n",
       "      <td>0.0</td>\n",
       "      <td>0.0</td>\n",
       "      <td>0.0</td>\n",
       "      <td>-0.002471</td>\n",
       "      <td>0.016649</td>\n",
       "      <td>-0.096654</td>\n",
       "      <td>0.025140</td>\n",
       "      <td>-0.058194</td>\n",
       "      <td>-0.004564</td>\n",
       "      <td>...</td>\n",
       "      <td>0.0</td>\n",
       "      <td>0.001603</td>\n",
       "      <td>-0.006735</td>\n",
       "      <td>0.014977</td>\n",
       "      <td>0.008149</td>\n",
       "      <td>0.038802</td>\n",
       "      <td>0.0</td>\n",
       "      <td>0.011276</td>\n",
       "      <td>0.0</td>\n",
       "      <td>-0.069147</td>\n",
       "    </tr>\n",
       "    <tr>\n",
       "      <th>159827</th>\n",
       "      <td>0.009110</td>\n",
       "      <td>0.0</td>\n",
       "      <td>0.0</td>\n",
       "      <td>0.0</td>\n",
       "      <td>-0.001160</td>\n",
       "      <td>-0.032670</td>\n",
       "      <td>-0.070514</td>\n",
       "      <td>0.036401</td>\n",
       "      <td>-0.195084</td>\n",
       "      <td>-0.013960</td>\n",
       "      <td>...</td>\n",
       "      <td>0.0</td>\n",
       "      <td>0.001185</td>\n",
       "      <td>-0.001447</td>\n",
       "      <td>-0.001791</td>\n",
       "      <td>0.013452</td>\n",
       "      <td>0.045992</td>\n",
       "      <td>0.0</td>\n",
       "      <td>0.006163</td>\n",
       "      <td>0.0</td>\n",
       "      <td>-0.070678</td>\n",
       "    </tr>\n",
       "  </tbody>\n",
       "</table>\n",
       "<p>159828 rows × 154 columns</p>\n",
       "</div>"
      ],
      "text/plain": [
       "        numero_de_cliente  foto_mes  active_quarter  cliente_vip  internet  \\\n",
       "0               -0.059399       0.0             0.0          0.0 -0.000296   \n",
       "1               -0.030114       0.0             0.0          0.0 -0.004172   \n",
       "2               -0.015525       0.0             0.0          0.0 -0.000431   \n",
       "3               -0.016679       0.0             0.0          0.0 -0.000467   \n",
       "4               -0.024563       0.0             0.0          0.0 -0.001399   \n",
       "...                   ...       ...             ...          ...       ...   \n",
       "159823           0.014883       0.0             0.0          0.0 -0.002832   \n",
       "159824           0.020811       0.0             0.0          0.0 -0.002118   \n",
       "159825           0.010423       0.0             0.0          0.0 -0.002472   \n",
       "159826           0.023692       0.0             0.0          0.0 -0.002471   \n",
       "159827           0.009110       0.0             0.0          0.0 -0.001160   \n",
       "\n",
       "        cliente_edad  cliente_antiguedad  mrentabilidad  mrentabilidad_annual  \\\n",
       "0          -0.226096            0.036975       0.011353              0.106937   \n",
       "1           0.049834            0.020299       0.007580              0.025602   \n",
       "2          -0.131010           -0.022083       0.026972             -0.228822   \n",
       "3           0.110202            0.033312       0.008397              0.074011   \n",
       "4           0.076367            0.020729      -0.038523              0.264719   \n",
       "...              ...                 ...            ...                   ...   \n",
       "159823      0.021506           -0.072522       0.016694             -0.115339   \n",
       "159824      0.007973           -0.076953       0.020665             -0.092561   \n",
       "159825      0.022727           -0.129579       0.020816             -0.052835   \n",
       "159826      0.016649           -0.096654       0.025140             -0.058194   \n",
       "159827     -0.032670           -0.070514       0.036401             -0.195084   \n",
       "\n",
       "        mcomisiones  ...  Visa_madelantodolares  Visa_fultimo_cierre  \\\n",
       "0          0.008824  ...                    0.0             0.006159   \n",
       "1         -0.018599  ...                    0.0             0.000615   \n",
       "2          0.045084  ...                    0.0             0.001382   \n",
       "3          0.000968  ...                    0.0             0.000055   \n",
       "4         -0.011762  ...                    0.0             0.007090   \n",
       "...             ...  ...                    ...                  ...   \n",
       "159823    -0.001116  ...                    0.0             0.001442   \n",
       "159824     0.000034  ...                    0.0             0.001603   \n",
       "159825    -0.002553  ...                    0.0             0.001300   \n",
       "159826    -0.004564  ...                    0.0             0.001603   \n",
       "159827    -0.013960  ...                    0.0             0.001185   \n",
       "\n",
       "        Visa_mpagado  Visa_mpagospesos  Visa_mpagosdolares  Visa_fechaalta  \\\n",
       "0          -0.020858         -0.002582           -0.001113       -0.013512   \n",
       "1          -0.003269         -0.015208            0.003362       -0.020631   \n",
       "2           0.011327          0.014814           -0.002103        0.003128   \n",
       "3          -0.002720         -0.039359            0.019646        0.016658   \n",
       "4          -0.000239         -0.049873           -0.001791       -0.023731   \n",
       "...              ...               ...                 ...             ...   \n",
       "159823      0.000127         -0.007158            0.014346        0.072067   \n",
       "159824      0.000463         -0.008493            0.012611        0.074352   \n",
       "159825     -0.001313         -0.001045            0.007308        0.029410   \n",
       "159826     -0.006735          0.014977            0.008149        0.038802   \n",
       "159827     -0.001447         -0.001791            0.013452        0.045992   \n",
       "\n",
       "        Visa_mconsumototal  Visa_cconsumos  Visa_cadelantosefectivo  \\\n",
       "0                      0.0       -0.011341                      0.0   \n",
       "1                      0.0        0.008871                      0.0   \n",
       "2                      0.0       -0.011976                      0.0   \n",
       "3                      0.0        0.001402                      0.0   \n",
       "4                      0.0       -0.014604                      0.0   \n",
       "...                    ...             ...                      ...   \n",
       "159823                 0.0        0.002196                      0.0   \n",
       "159824                 0.0        0.001722                      0.0   \n",
       "159825                 0.0        0.008675                      0.0   \n",
       "159826                 0.0        0.011276                      0.0   \n",
       "159827                 0.0        0.006163                      0.0   \n",
       "\n",
       "        Visa_mpagominimo  \n",
       "0               0.008347  \n",
       "1              -0.037425  \n",
       "2               0.111797  \n",
       "3               0.008726  \n",
       "4               0.138070  \n",
       "...                  ...  \n",
       "159823         -0.110212  \n",
       "159824         -0.107181  \n",
       "159825         -0.065754  \n",
       "159826         -0.069147  \n",
       "159827         -0.070678  \n",
       "\n",
       "[159828 rows x 154 columns]"
      ]
     },
     "execution_count": 25,
     "metadata": {},
     "output_type": "execute_result"
    }
   ],
   "source": [
    "shap_continuan = pd.DataFrame(shap_values_continuan[0], columns = Xcontinuan.columns)\n",
    "shap_continuan"
   ]
  },
  {
   "cell_type": "code",
   "execution_count": 26,
   "metadata": {},
   "outputs": [
    {
     "data": {
      "text/plain": [
       "cpayroll_trx                   0.028909\n",
       "ccomisiones_mantenimiento      0.022648\n",
       "mcaja_ahorro                   0.021373\n",
       "cliente_edad                   0.019379\n",
       "mcuentas_saldo                 0.012955\n",
       "                                 ...   \n",
       "ccajeros_propios_descuentos    0.000000\n",
       "mcajeros_propios_descuentos    0.000000\n",
       "ctarjeta_visa_descuentos       0.000000\n",
       "mtarjeta_visa_descuentos       0.000000\n",
       "cforex_buy                     0.000000\n",
       "Length: 154, dtype: float64"
      ]
     },
     "execution_count": 26,
     "metadata": {},
     "output_type": "execute_result"
    }
   ],
   "source": [
    "shap_importancias_continuan = shap_continuan.mean().abs().sort_values(ascending=False)\n",
    "shap_importancias_continuan"
   ]
  },
  {
   "cell_type": "code",
   "execution_count": 27,
   "metadata": {},
   "outputs": [
    {
     "data": {
      "image/png": "[encoded data removed]",
      "text/plain": [
       "<Figure size 576x684 with 1 Axes>"
      ]
     },
     "metadata": {
      "needs_background": "light"
     },
     "output_type": "display_data"
    }
   ],
   "source": [
    "shap.summary_plot(shap_values_continuan, Xcontinuan)\n"
   ]
  },
  {
   "cell_type": "code",
   "execution_count": 28,
   "metadata": {},
   "outputs": [
    {
     "data": {
      "image/png": "[encoded data removed]",
      "text/plain": [
       "<Figure size 540x360 with 2 Axes>"
      ]
     },
     "metadata": {
      "needs_background": "light"
     },
     "output_type": "display_data"
    }
   ],
   "source": [
    "shap.dependence_plot(\"cliente_edad\", shap_values_continuan[0], Xcontinuan)"
   ]
  }
 ],
 "metadata": {
  "kernelspec": {
   "display_name": "Python 3",
   "language": "python",
   "name": "python3"
  },
  "language_info": {
   "codemirror_mode": {
    "name": "ipython",
    "version": 3
   },
   "file_extension": ".py",
   "mimetype": "text/x-python",
   "name": "python",
   "nbconvert_exporter": "python",
   "pygments_lexer": "ipython3",
   "version": "3.8.3"
  },
  "vscode": {
   "interpreter": {
    "hash": "d82221ca95a05516fde857407cc8e78d06cecb56814b70ff11970b46a17253e5"
   }
  }
 },
 "nbformat": 4,
 "nbformat_minor": 2
}
